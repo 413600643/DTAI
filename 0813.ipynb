{
 "cells": [
  {
   "cell_type": "code",
   "execution_count": 1,
   "metadata": {},
   "outputs": [
    {
     "ename": "NameError",
     "evalue": "name 'score' is not defined",
     "output_type": "error",
     "traceback": [
      "\u001b[1;31m---------------------------------------------------------------------------\u001b[0m",
      "\u001b[1;31mNameError\u001b[0m                                 Traceback (most recent call last)",
      "Cell \u001b[1;32mIn[1], line 1\u001b[0m\n\u001b[1;32m----> 1\u001b[0m \u001b[38;5;28;01mif\u001b[39;00m (\u001b[43mscore\u001b[49m\u001b[38;5;241m>\u001b[39m\u001b[38;5;241m=\u001b[39m\u001b[38;5;241m60\u001b[39m):\n\u001b[0;32m      2\u001b[0m     grade \u001b[38;5;241m=\u001b[39m \u001b[38;5;124m\"\u001b[39m\u001b[38;5;124m及格\u001b[39m\u001b[38;5;124m\"\u001b[39m\n\u001b[0;32m      3\u001b[0m \u001b[38;5;28msum\u001b[39m \u001b[38;5;241m=\u001b[39m \u001b[38;5;28msum\u001b[39m \u001b[38;5;241m+\u001b[39m score\n",
      "\u001b[1;31mNameError\u001b[0m: name 'score' is not defined"
     ]
    }
   ],
   "source": [
    "if (score>=60):\n",
    "    grade = \"及格\"\n",
    "sum = sum + score"
   ]
  },
  {
   "cell_type": "code",
   "execution_count": 3,
   "metadata": {},
   "outputs": [
    {
     "name": "stdout",
     "output_type": "stream",
     "text": [
      "歡迎光臨\n"
     ]
    }
   ],
   "source": [
    "密碼 = int(input(\"請輸入密碼\"))\n",
    "if (密碼==1234) :\n",
    "    print (\"歡迎光臨\")"
   ]
  },
  {
   "cell_type": "code",
   "execution_count": 4,
   "metadata": {},
   "outputs": [
    {
     "name": "stdout",
     "output_type": "stream",
     "text": [
      "出門記得帶傘\n"
     ]
    }
   ],
   "source": [
    "rain = input(\"今天會下雨嗎\")\n",
    "if (rain==\"Y\" or rain==\"y\"):\n",
    "    print(\"出門記得帶傘\")"
   ]
  },
  {
   "cell_type": "code",
   "execution_count": 6,
   "metadata": {},
   "outputs": [
    {
     "name": "stdout",
     "output_type": "stream",
     "text": [
      "密碼錯誤\n"
     ]
    }
   ],
   "source": [
    "密碼 = int(input(\"請輸入密碼\"))\n",
    "if (密碼==1234) :\n",
    "    print (\"歡迎光臨\")\n",
    "else:\n",
    "    print(\"密碼錯誤\")"
   ]
  },
  {
   "cell_type": "code",
   "execution_count": 8,
   "metadata": {},
   "outputs": [
    {
     "name": "stdout",
     "output_type": "stream",
     "text": [
      "不用帶傘\n"
     ]
    }
   ],
   "source": [
    "rain = input(\"今天會下雨嗎\")\n",
    "if (rain==\"Y\" or rain==\"y\"):\n",
    "    print(\"出門記得帶傘\")\n",
    "else:\n",
    "    print(\"不用帶傘\")"
   ]
  },
  {
   "cell_type": "code",
   "execution_count": 9,
   "metadata": {},
   "outputs": [
    {
     "name": "stdout",
     "output_type": "stream",
     "text": [
      "你輸入的數字是偶數\n"
     ]
    }
   ],
   "source": [
    "i = int(input(\"數字\"))\n",
    "if i %2 ==0:\n",
    "    print(\"你輸入的數字是偶數\")\n",
    "else:\n",
    "    print(\"你輸入的數字是奇數\")"
   ]
  },
  {
   "cell_type": "code",
   "execution_count": 10,
   "metadata": {},
   "outputs": [
    {
     "name": "stdout",
     "output_type": "stream",
     "text": [
      "體溫正常!\n"
     ]
    }
   ],
   "source": [
    "體溫 = int(input(\"數字\"))\n",
    "if 體溫 >= 37.5:\n",
    "    print(\"體溫過高!\")\n",
    "elif 體溫<=37.4 and 體溫>=37:\n",
    "    print(\"體溫略高!\")\n",
    "elif 體溫<=36.9 and 體溫>=34:\n",
    "    print(\"體溫正常!\")\n",
    "else:\n",
    "    print(\"體溫異常，請重新測量!\")"
   ]
  },
  {
   "cell_type": "code",
   "execution_count": 11,
   "metadata": {},
   "outputs": [
    {
     "name": "stdout",
     "output_type": "stream",
     "text": [
      "A\n"
     ]
    }
   ],
   "source": [
    "成績 = int(input(\"number\"))\n",
    "if 成績 >= 90:\n",
    "    print(\"A\")\n",
    "elif 成績 <=89 and 成績 >=80:\n",
    "    print(\"B\")\n",
    "elif 成績 <=79 and 成績 >=70:\n",
    "    print(\"C\")\n",
    "elif 成績 <=69 and 成績 >=60:\n",
    "    print(\"D\")\n",
    "else:\n",
    "    print(\"E\")"
   ]
  },
  {
   "cell_type": "code",
   "execution_count": 12,
   "metadata": {},
   "outputs": [
    {
     "name": "stdout",
     "output_type": "stream",
     "text": [
      "月份不再範圍內\n"
     ]
    }
   ],
   "source": [
    "n = int(input(\"月份\"))\n",
    "if n >=3 and n <=5:\n",
    "    print(n,\"月是春天!\")\n",
    "elif n >=6 and n<=8:\n",
    "    print(n,\"月是夏天!\")\n",
    "elif n >=9 and n <=11:\n",
    "    print(n,\"月是秋天!\")\n",
    "elif n==12 or n >=1 and n <=2:\n",
    "    print(n,\"月是冬天!\")\n",
    "else:\n",
    "    print(\"月份不再範圍內\")"
   ]
  },
  {
   "cell_type": "code",
   "execution_count": 13,
   "metadata": {},
   "outputs": [
    {
     "name": "stdout",
     "output_type": "stream",
     "text": [
      "454.5\n"
     ]
    }
   ],
   "source": [
    "total =  int(input(\"數字\"))\n",
    "if total > 1000:\n",
    "    print(total*0.8)\n",
    "elif total >=500 and total<= 1000:\n",
    "    print(total*0.9)\n",
    "elif total <500:\n",
    "    print(total)"
   ]
  },
  {
   "cell_type": "code",
   "execution_count": 14,
   "metadata": {},
   "outputs": [
    {
     "name": "stdout",
     "output_type": "stream",
     "text": [
      "需要立即加油!\n"
     ]
    }
   ],
   "source": [
    "fuel = int(input(\"數字\"))\n",
    "if fuel < 5:\n",
    "    print(\"需要立即加油!\")\n",
    "elif fuel >=5 and fuel <=10:\n",
    "    print(\"油量不足，建議加油\")\n",
    "elif fuel >10:\n",
    "    print(\"油量充足\")"
   ]
  },
  {
   "cell_type": "code",
   "execution_count": 15,
   "metadata": {},
   "outputs": [
    {
     "name": "stdout",
     "output_type": "stream",
     "text": [
      "5970\n"
     ]
    }
   ],
   "source": [
    "amount = int(input(\"數字\"))\n",
    "if amount >10000:\n",
    "    print(amount)\n",
    "elif amount >5000 and amount <=10000:\n",
    "    print(amount - 50)\n",
    "elif amount >1000 and amount<=5000:\n",
    "    print(amount - 100)\n",
    "elif amount <=1000:\n",
    "    print(amount - 150)"
   ]
  },
  {
   "cell_type": "code",
   "execution_count": null,
   "metadata": {},
   "outputs": [],
   "source": []
  }
 ],
 "metadata": {
  "kernelspec": {
   "display_name": "Python 3",
   "language": "python",
   "name": "python3"
  },
  "language_info": {
   "codemirror_mode": {
    "name": "ipython",
    "version": 3
   },
   "file_extension": ".py",
   "mimetype": "text/x-python",
   "name": "python",
   "nbconvert_exporter": "python",
   "pygments_lexer": "ipython3",
   "version": "3.12.4"
  }
 },
 "nbformat": 4,
 "nbformat_minor": 2
}
