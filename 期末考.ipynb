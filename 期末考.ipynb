{
 "cells": [
  {
   "cell_type": "code",
   "execution_count": 1,
   "metadata": {},
   "outputs": [
    {
     "name": "stdout",
     "output_type": "stream",
     "text": [
      "2.5\n"
     ]
    }
   ],
   "source": [
    "#計算除法餘數\n",
    "i = float(input())\n",
    "j = float(input())\n",
    "ans = i % j\n",
    "print(ans)"
   ]
  },
  {
   "cell_type": "code",
   "execution_count": 2,
   "metadata": {},
   "outputs": [
    {
     "name": "stdout",
     "output_type": "stream",
     "text": [
      "153,"
     ]
    }
   ],
   "source": [
    "#利用for迴圈來尋找水仙花數\n",
    "k,j = map(int, input().split())\n",
    "if k > j:\n",
    "    k,j=j,k\n",
    "for i in range(k,j+1):\n",
    "    x=i//100\n",
    "    x=int(x)\n",
    "    y=(i//10)%10\n",
    "    y=int(y)\n",
    "    z=i% 10\n",
    "    z=int(z)\n",
    "    if((x**3)+(y**3)+(z**3)==i)and(i<1000):\n",
    "        print(i,end=',')"
   ]
  },
  {
   "cell_type": "code",
   "execution_count": 3,
   "metadata": {},
   "outputs": [
    {
     "name": "stdout",
     "output_type": "stream",
     "text": [
      "t=2.0 b=5.0 h=4.8 area=16.8\n"
     ]
    }
   ],
   "source": [
    "#計算梯形面積並格式化輸出\n",
    "t = float(input())\n",
    "b = float(input())\n",
    "h = float(input())\n",
    "area = (t+b)*h*0.5\n",
    "print(f't={t} b={b} h={h} area={area}')"
   ]
  },
  {
   "cell_type": "code",
   "execution_count": 4,
   "metadata": {},
   "outputs": [
    {
     "name": "stdout",
     "output_type": "stream",
     "text": [
      "park time:11h:9m\n",
      "pay:300 money\n"
     ]
    }
   ],
   "source": [
    "#停車費計算\n",
    "x=input()\n",
    "x=int(x)\n",
    "t=20\n",
    "n=(x//60)\n",
    "m=(x%60)\n",
    "g=(t+40*n)\n",
    "j=f'park time:{n}h:{m}m'\n",
    "print(j)\n",
    "if (g==20):\n",
    "    h= f'pay:{g} money'\n",
    "    print(h)\n",
    "elif (g>=300):\n",
    "    h=f'pay:{300} money'\n",
    "    print(h)\n",
    "elif (g<=300):\n",
    "    h=f'pay:{g} money'\n",
    "    print(h)"
   ]
  },
  {
   "cell_type": "code",
   "execution_count": 6,
   "metadata": {},
   "outputs": [
    {
     "name": "stdout",
     "output_type": "stream",
     "text": [
      "[3, 4, 5, 6, 7]\n"
     ]
    }
   ],
   "source": [
    "#利用range產生指定串列list\n",
    "a,s,d = map(int, input().split())\n",
    "j = [i for i in range(a,s,d)]\n",
    "print(j)"
   ]
  },
  {
   "cell_type": "code",
   "execution_count": 7,
   "metadata": {},
   "outputs": [
    {
     "name": "stdout",
     "output_type": "stream",
     "text": [
      "2000 is leap year\n"
     ]
    }
   ],
   "source": [
    "#判斷平年、閏年\n",
    "i = int(input())\n",
    "if i % 4 == 0 and i % 100 != 0 or i % 100 == 0 and i % 400 == 0:\n",
    "    print(i,'is leap year')\n",
    "else:\n",
    "    print(i,'is common year')"
   ]
  },
  {
   "cell_type": "code",
   "execution_count": 8,
   "metadata": {},
   "outputs": [
    {
     "name": "stdout",
     "output_type": "stream",
     "text": [
      "87 is B\n"
     ]
    }
   ],
   "source": [
    "#成績等第判斷\n",
    "i = int(input())\n",
    "if i > 100 or i < 0:\n",
    "    print(i,'is error')\n",
    "elif i >= 90 and i <= 100:\n",
    "    print(i,'is A')\n",
    "elif i >= 80 and i <= 89:\n",
    "    print(i,'is B')\n",
    "elif i >= 70 and i <= 79:\n",
    "    print(i,'is C')\n",
    "elif i >= 60 and i <= 69:\n",
    "    print(i,'is D')\n",
    "elif i >=0 and i <=59:\n",
    "    print(i,'is E')"
   ]
  },
  {
   "cell_type": "code",
   "execution_count": 9,
   "metadata": {},
   "outputs": [
    {
     "name": "stdout",
     "output_type": "stream",
     "text": [
      "0,5,10,15,20,25,30,35,40,45,50,55,60,65,70,75,80,85,90,95,"
     ]
    }
   ],
   "source": [
    "#利用for迴圈產生指定數列\n",
    "a,s,d = map(int, input().split())\n",
    "for i in range(a,s,d):\n",
    "    print(i,end=',')"
   ]
  },
  {
   "cell_type": "code",
   "execution_count": 10,
   "metadata": {},
   "outputs": [
    {
     "name": "stdout",
     "output_type": "stream",
     "text": [
      "*\n",
      "**\n",
      "***\n",
      "****\n",
      "*****\n"
     ]
    }
   ],
   "source": [
    "#用*印出靠左下的直角三角形\n",
    "n = int(input())\n",
    "for i in range(1,n+1):\n",
    "    for j in range(1,i+1):\n",
    "        print('*',end=\"\")\n",
    "    print()"
   ]
  },
  {
   "cell_type": "code",
   "execution_count": 11,
   "metadata": {},
   "outputs": [
    {
     "name": "stdout",
     "output_type": "stream",
     "text": [
      "5*1=5 5*2=10 5*3=15 5*4=20 5*5=25 5*6=30 5*7=35 5*8=40 5*9=45 \n",
      "6*1=6 6*2=12 6*3=18 6*4=24 6*5=30 6*6=36 6*7=42 6*8=48 6*9=54 \n",
      "7*1=7 7*2=14 7*3=21 7*4=28 7*5=35 7*6=42 7*7=49 7*8=56 7*9=63 \n",
      "8*1=8 8*2=16 8*3=24 8*4=32 8*5=40 8*6=48 8*7=56 8*8=64 8*9=72 \n",
      "9*1=9 9*2=18 9*3=27 9*4=36 9*5=45 9*6=54 9*7=63 9*8=72 9*9=81 \n"
     ]
    }
   ],
   "source": [
    "#印出乘法表\n",
    "n = int(input())\n",
    "for i in range(n,10):\n",
    "    for j in range(1,10):\n",
    "        print('%d*%d=%d' %(i,j,i*j),end=' ')\n",
    "    print()"
   ]
  },
  {
   "cell_type": "code",
   "execution_count": null,
   "metadata": {},
   "outputs": [],
   "source": []
  }
 ],
 "metadata": {
  "kernelspec": {
   "display_name": "Python 3",
   "language": "python",
   "name": "python3"
  },
  "language_info": {
   "codemirror_mode": {
    "name": "ipython",
    "version": 3
   },
   "file_extension": ".py",
   "mimetype": "text/x-python",
   "name": "python",
   "nbconvert_exporter": "python",
   "pygments_lexer": "ipython3",
   "version": "3.12.4"
  }
 },
 "nbformat": 4,
 "nbformat_minor": 2
}
